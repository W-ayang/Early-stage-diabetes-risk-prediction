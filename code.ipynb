{
 "cells": [
  {
   "cell_type": "code",
   "execution_count": 2,
   "metadata": {},
   "outputs": [
    {
     "name": "stdout",
     "output_type": "stream",
     "text": [
      "   Age Gender Polyuria Polydipsia sudden weight loss weakness Polyphagia  \\\n",
      "0   40   Male       No        Yes                 No      Yes         No   \n",
      "1   58   Male       No         No                 No      Yes         No   \n",
      "2   41   Male      Yes         No                 No      Yes        Yes   \n",
      "3   45   Male       No         No                Yes      Yes        Yes   \n",
      "4   60   Male      Yes        Yes                Yes      Yes        Yes   \n",
      "\n",
      "  Genital thrush visual blurring Itching Irritability delayed healing  \\\n",
      "0             No              No     Yes           No             Yes   \n",
      "1             No             Yes      No           No              No   \n",
      "2             No              No     Yes           No             Yes   \n",
      "3            Yes              No     Yes           No             Yes   \n",
      "4             No             Yes     Yes          Yes             Yes   \n",
      "\n",
      "  partial paresis muscle stiffness Alopecia Obesity     class  \n",
      "0              No              Yes      Yes     Yes  Positive  \n",
      "1             Yes               No      Yes      No  Positive  \n",
      "2              No              Yes      Yes      No  Positive  \n",
      "3              No               No       No      No  Positive  \n",
      "4             Yes              Yes      Yes     Yes  Positive  \n"
     ]
    }
   ],
   "source": [
    "import pandas as pd\n",
    "import os\n",
    "cd = os.getcwd()\n",
    "file = \"diabetes_data_upload.csv\"\n",
    "file_path = os.path.join(cd,file)\n",
    "data = pd.read_csv(file_path)\n",
    "\n",
    "print(data.head())"
   ]
  }
 ],
 "metadata": {
  "kernelspec": {
   "display_name": "Python 3",
   "language": "python",
   "name": "python3"
  },
  "language_info": {
   "codemirror_mode": {
    "name": "ipython",
    "version": 3
   },
   "file_extension": ".py",
   "mimetype": "text/x-python",
   "name": "python",
   "nbconvert_exporter": "python",
   "pygments_lexer": "ipython3",
   "version": "3.9.17"
  }
 },
 "nbformat": 4,
 "nbformat_minor": 2
}
